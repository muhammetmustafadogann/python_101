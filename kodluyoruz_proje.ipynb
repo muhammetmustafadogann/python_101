{
 "cells": [
  {
   "cell_type": "markdown",
   "id": "01c2b5e0-9067-4e3e-9c96-2cdae53631a1",
   "metadata": {},
   "source": [
    "# Proje \n",
    "- 1-Bir listeyi düzleştiren (flatten) fonksiyon yazın. Elemanları birden çok katmanlı listtlerden ([[3],2] gibi) oluşabileceği gibi, non-scalar verilerden de oluşabilir. Örnek olarak:\n",
    "\n",
    "input: [[1,'a',['cat'],2],[[[3]],'dog'],4,5]\n",
    "\n",
    "output: [1,'a','cat',2,3,'dog',4,5]\n",
    "\n",
    "- 2-Verilen listenin içindeki elemanları tersine döndüren bir fonksiyon yazın. Eğer listenin içindeki elemanlar da liste içeriyorsa onların elemanlarını da tersine döndürün. Örnek olarak:\n",
    "\n",
    "input: [[1, 2], [3, 4], [5, 6, 7]]\n",
    "\n",
    "output: [[[7, 6, 5], [4, 3], [2, 1]]\n"
   ]
  },
  {
   "cell_type": "markdown",
   "id": "72ef1c7e-b000-4db6-ba94-aa47bde0a541",
   "metadata": {},
   "source": [
    "### 1)"
   ]
  },
  {
   "cell_type": "markdown",
   "id": "60d30710-137b-4acc-93ad-7c7208b14aba",
   "metadata": {},
   "source": [
    "### Fonksiyon ile"
   ]
  },
  {
   "cell_type": "code",
   "execution_count": 2,
   "id": "3131b0ec-2ee7-427c-a3d6-28679accef4d",
   "metadata": {},
   "outputs": [
    {
     "name": "stdout",
     "output_type": "stream",
     "text": [
      "[1, 'a', 'cat', 2, 3, 'dog', 4, 5]\n",
      "True\n"
     ]
    }
   ],
   "source": [
    "input_list = [[1,'a',['cat'],2],[[[3]],'dog'],4,5] #verilen giriş\n",
    "output_list = [1,'a','cat',2,3,'dog',4,5]          #istenen çıkış\n",
    "def flat(t):                                       #flat işleminin fonksiyonu\n",
    "    if type(t) == list:\n",
    "        return [x for i in t for x in flat(i)]\n",
    "    return [t]\n",
    "output1 = flat(input_list)\n",
    "print(output1)\n",
    "print(output1 == output_list)"
   ]
  },
  {
   "cell_type": "markdown",
   "id": "fb391967-9c20-4174-bd84-c64b8e93b8d9",
   "metadata": {},
   "source": [
    "### Döngü ile"
   ]
  },
  {
   "cell_type": "code",
   "execution_count": 6,
   "id": "6f1e9c6e-449a-4f16-a68e-26f825e712fe",
   "metadata": {},
   "outputs": [
    {
     "name": "stdout",
     "output_type": "stream",
     "text": [
      "[1, 'a', ['cat'], 2, [[3]], 'dog']\n"
     ]
    }
   ],
   "source": [
    "input_l = [[1,'a',['cat'],2],[[[3]],'dog'],4,5] #verilen giriş\n",
    "output_l = [1,'a','cat',2,3,'dog',4,5]          #istenen çıkış\n",
    "liste=[]\n",
    "for i in input_l:\n",
    "    if type(i) == list:\n",
    "        for x in i:\n",
    "            liste.append(x)\n",
    "print(liste)"
   ]
  },
  {
   "cell_type": "markdown",
   "id": "a46061a7-7805-4e7e-8027-3a8ff048188d",
   "metadata": {},
   "source": [
    "## 2-"
   ]
  },
  {
   "cell_type": "code",
   "execution_count": 3,
   "id": "511665c8-f9c7-41bf-b568-8a2f8b23e0e1",
   "metadata": {},
   "outputs": [
    {
     "name": "stdout",
     "output_type": "stream",
     "text": [
      "[[7, 6, 5], [4, 3], [2, 1]]\n",
      "True\n"
     ]
    }
   ],
   "source": [
    "output2 = [[7, 6, 5], [4, 3], [2, 1]]#istenen çıkış\n",
    "liste = [[1, 2], [3, 4], [5, 6, 7]] #verilen giriş\n",
    "for i in liste:                     #liste elemanlarına erişmek için oluşturulan döngü\n",
    "    liste.reverse()                 #.reverse() ile listenin tersinin elde edilmesi\n",
    "    if type(i) == list:             #liste içinde liste olup olmadığının koşullu kontrolü\n",
    "        i.reverse()                 #listede bulunan liste elemanlarının kendi içerisinde tersinin eldesi\n",
    "print(liste)                        #elde edilen çıkış\n",
    "print(output2 == liste)              #istenen çıkış ile elde edilen çıkışın karşılaştırılması"
   ]
  }
 ],
 "metadata": {
  "kernelspec": {
   "display_name": "Python 3 (ipykernel)",
   "language": "python",
   "name": "python3"
  },
  "language_info": {
   "codemirror_mode": {
    "name": "ipython",
    "version": 3
   },
   "file_extension": ".py",
   "mimetype": "text/x-python",
   "name": "python",
   "nbconvert_exporter": "python",
   "pygments_lexer": "ipython3",
   "version": "3.9.6"
  }
 },
 "nbformat": 4,
 "nbformat_minor": 5
}
